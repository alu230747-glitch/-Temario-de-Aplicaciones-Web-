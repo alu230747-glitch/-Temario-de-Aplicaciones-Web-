{
  "nbformat": 4,
  "nbformat_minor": 0,
  "metadata": {
    "colab": {
      "provenance": [],
      "authorship_tag": "ABX9TyMbrkPfQfxqVuWJsPNRX4Go",
      "include_colab_link": true
    },
    "kernelspec": {
      "name": "python3",
      "display_name": "Python 3"
    },
    "language_info": {
      "name": "python"
    }
  },
  "cells": [
    {
      "cell_type": "markdown",
      "metadata": {
        "id": "view-in-github",
        "colab_type": "text"
      },
      "source": [
        "<a href=\"https://colab.research.google.com/github/alu230747-glitch/-Temario-de-Aplicaciones-Web-/blob/main/EvaluacionDiagnostica.ipynb\" target=\"_parent\"><img src=\"https://colab.research.google.com/assets/colab-badge.svg\" alt=\"Open In Colab\"/></a>"
      ]
    },
    {
      "cell_type": "markdown",
      "source": [
        "Imprimir nombre paterno y materno"
      ],
      "metadata": {
        "id": "Nm1oC0Gmz99p"
      }
    },
    {
      "cell_type": "code",
      "execution_count": 3,
      "metadata": {
        "colab": {
          "base_uri": "https://localhost:8080/"
        },
        "id": "p196tx3Yzwdn",
        "outputId": "16ad1d6c-ac71-48fc-93a5-8c72936e8635"
      },
      "outputs": [
        {
          "output_type": "stream",
          "name": "stdout",
          "text": [
            "Ingresa tu nombre\n",
            "------------------\n",
            "Nombre del alumno Abril\n",
            "Apellido paterno Herrera\n",
            "Apellido materno Dimas\n",
            "AbrilHerreraDimas\n"
          ]
        }
      ],
      "source": [
        "print(\"Ingresa tu nombre\")\n",
        "print(\"------------------\")\n",
        "n=(input(\"Nombre del alumno \" ))\n",
        "p=(input(\"Apellido paterno \" ))\n",
        "m=(input(\"Apellido materno \" ))\n",
        "print(n+p+m)"
      ]
    },
    {
      "cell_type": "markdown",
      "source": [
        "Captura dos numeros decimales e imprimir suma"
      ],
      "metadata": {
        "id": "1LkCa8GE1roU"
      }
    },
    {
      "cell_type": "code",
      "source": [
        "print(\"Ingresa dos numeros\")\n",
        "print(\"--------------------\")\n",
        "n1=(float(print(\"Primer numero \" )))\n",
        "n2=(float(print(\"Segundo numero \" )))\n",
        "print(n1+n2)"
      ],
      "metadata": {
        "colab": {
          "base_uri": "https://localhost:8080/"
        },
        "id": "ilP_F9jA11dL",
        "outputId": "5c79dfa0-b806-47fb-fbe0-03692526c22f"
      },
      "execution_count": 8,
      "outputs": [
        {
          "output_type": "stream",
          "name": "stdout",
          "text": [
            "Ingresa dos numeros\n",
            "--------------------\n",
            "Primer numero 2.6\n",
            "Segundo numero 3.7\n",
            "6.300000000000001\n"
          ]
        }
      ]
    },
    {
      "cell_type": "markdown",
      "source": [
        "Calcula el area de un circulo"
      ],
      "metadata": {
        "id": "bkAd02sZ3Jyv"
      }
    },
    {
      "cell_type": "code",
      "source": [
        "print(\"Area del circulo\")\n",
        "print(\"------------------\")\n",
        "r=(float(input(\"Ingresa el radio \" )))\n",
        "a=(3.1416*(r**2))\n",
        "print(a)"
      ],
      "metadata": {
        "colab": {
          "base_uri": "https://localhost:8080/"
        },
        "id": "TE3496dC3PP_",
        "outputId": "df92b6cb-a414-4800-94be-0a9dc8e13903"
      },
      "execution_count": 12,
      "outputs": [
        {
          "output_type": "stream",
          "name": "stdout",
          "text": [
            "Area del circulo\n",
            "------------------\n",
            "Ingresa el radio 6\n",
            "113.0976\n"
          ]
        }
      ]
    },
    {
      "cell_type": "markdown",
      "source": [
        "Codigo pasado"
      ],
      "metadata": {
        "id": "VJuzApiP6Opv"
      }
    },
    {
      "cell_type": "code",
      "source": [
        "db.carros.find({nocarro:53})\n",
        "db.carros.find({modelo:\"m0bt\"})\n",
        "db.carros.find({modelo:\"fiat\"})\n"
      ],
      "metadata": {
        "colab": {
          "base_uri": "https://localhost:8080/",
          "height": 141
        },
        "id": "hq8cR4T56p3t",
        "outputId": "cf9b1221-0936-4e86-c38e-08e3fbd88846"
      },
      "execution_count": 13,
      "outputs": [
        {
          "output_type": "error",
          "ename": "NameError",
          "evalue": "name 'db' is not defined",
          "traceback": [
            "\u001b[0;31m---------------------------------------------------------------------------\u001b[0m",
            "\u001b[0;31mNameError\u001b[0m                                 Traceback (most recent call last)",
            "\u001b[0;32m/tmp/ipython-input-2174962345.py\u001b[0m in \u001b[0;36m<cell line: 0>\u001b[0;34m()\u001b[0m\n\u001b[0;32m----> 1\u001b[0;31m \u001b[0mdb\u001b[0m\u001b[0;34m.\u001b[0m\u001b[0mcarros\u001b[0m\u001b[0;34m.\u001b[0m\u001b[0mfind\u001b[0m\u001b[0;34m(\u001b[0m\u001b[0;34m{\u001b[0m\u001b[0mnocarro\u001b[0m\u001b[0;34m:\u001b[0m\u001b[0;36m53\u001b[0m\u001b[0;34m}\u001b[0m\u001b[0;34m)\u001b[0m\u001b[0;34m\u001b[0m\u001b[0;34m\u001b[0m\u001b[0m\n\u001b[0m",
            "\u001b[0;31mNameError\u001b[0m: name 'db' is not defined"
          ]
        }
      ]
    }
  ]
}